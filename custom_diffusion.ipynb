{
 "cells": [
  {
   "cell_type": "code",
   "execution_count": 1,
   "id": "f2414620-bc3f-46fa-8159-4a16ad54bcfd",
   "metadata": {
    "execution": {
     "iopub.execute_input": "2023-09-20T18:13:58.893631Z",
     "iopub.status.busy": "2023-09-20T18:13:58.893355Z",
     "iopub.status.idle": "2023-09-20T18:14:01.355115Z",
     "shell.execute_reply": "2023-09-20T18:14:01.354240Z",
     "shell.execute_reply.started": "2023-09-20T18:13:58.893608Z"
    }
   },
   "outputs": [
    {
     "name": "stdout",
     "output_type": "stream",
     "text": [
      "Your configuration specifies to merge with the ref 'refs/heads/main'\n",
      "from the remote, but no such ref was fetched.\n"
     ]
    }
   ],
   "source": [
    "!  git config --global user.email \"khayam.gondal@gmail.com\"\n",
    "!  git config --global user.name \"Khayam Gondal\"\n",
    "!  git pull"
   ]
  },
  {
   "cell_type": "code",
   "execution_count": null,
   "id": "60ce84b2-0bf9-40e9-873d-5da4cce18561",
   "metadata": {},
   "outputs": [],
   "source": []
  }
 ],
 "metadata": {
  "kernelspec": {
   "display_name": "Python 3 (ipykernel)",
   "language": "python",
   "name": "python3"
  },
  "language_info": {
   "codemirror_mode": {
    "name": "ipython",
    "version": 3
   },
   "file_extension": ".py",
   "mimetype": "text/x-python",
   "name": "python",
   "nbconvert_exporter": "python",
   "pygments_lexer": "ipython3",
   "version": "3.8.10"
  }
 },
 "nbformat": 4,
 "nbformat_minor": 5
}
