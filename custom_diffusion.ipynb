{
 "cells": [
  {
   "cell_type": "code",
   "execution_count": 1,
   "id": "f2414620-bc3f-46fa-8159-4a16ad54bcfd",
   "metadata": {
    "execution": {
     "iopub.execute_input": "2023-09-20T18:13:58.893631Z",
     "iopub.status.busy": "2023-09-20T18:13:58.893355Z",
     "iopub.status.idle": "2023-09-20T18:14:01.355115Z",
     "shell.execute_reply": "2023-09-20T18:14:01.354240Z",
     "shell.execute_reply.started": "2023-09-20T18:13:58.893608Z"
    }
   },
   "outputs": [
    {
     "name": "stdout",
     "output_type": "stream",
     "text": [
      "Your configuration specifies to merge with the ref 'refs/heads/main'\n",
      "from the remote, but no such ref was fetched.\n"
     ]
    }
   ],
   "source": [
    "!  git config --global user.email \"khayam.gondal@gmail.com\"\n",
    "!  git config --global user.name \"Khayam Gondal\"\n",
    "!  git pull"
   ]
  },
  {
   "cell_type": "code",
   "execution_count": 7,
   "id": "7ef877a2-5a2e-435e-92a9-a3126864ac99",
   "metadata": {
    "execution": {
     "iopub.execute_input": "2023-09-20T18:19:12.362387Z",
     "iopub.status.busy": "2023-09-20T18:19:12.361984Z",
     "iopub.status.idle": "2023-09-20T18:19:14.860428Z",
     "shell.execute_reply": "2023-09-20T18:19:14.859357Z",
     "shell.execute_reply.started": "2023-09-20T18:19:12.362359Z"
    }
   },
   "outputs": [
    {
     "name": "stdout",
     "output_type": "stream",
     "text": [
      "Already up to date.\n",
      "/notebooks\n"
     ]
    }
   ],
   "source": [
    "!git config --global --add safe.directory /home/diffusers/diffusers\n",
    "\n",
    "!cd /home/diffusers/diffusers && git pull \n",
    "!pwd\n"
   ]
  },
  {
   "cell_type": "code",
   "execution_count": 2,
   "id": "60ce84b2-0bf9-40e9-873d-5da4cce18561",
   "metadata": {
    "execution": {
     "iopub.execute_input": "2023-09-20T18:15:15.367173Z",
     "iopub.status.busy": "2023-09-20T18:15:15.366740Z",
     "iopub.status.idle": "2023-09-20T18:15:22.550077Z",
     "shell.execute_reply": "2023-09-20T18:15:22.548952Z",
     "shell.execute_reply.started": "2023-09-20T18:15:15.367134Z"
    }
   },
   "outputs": [
    {
     "name": "stdout",
     "output_type": "stream",
     "text": [
      "[main (root-commit) f6e5148] updated notebook via paperspac\n",
      " 1 file changed, 62 insertions(+)\n",
      " create mode 100644 custom_diffusion.ipynb\n",
      "Enumerating objects: 3, done.\n",
      "Counting objects: 100% (3/3), done.\n",
      "Delta compression using up to 12 threads\n",
      "Compressing objects: 100% (3/3), done.\n",
      "Writing objects: 100% (3/3), 883 bytes | 883.00 KiB/s, done.\n",
      "Total 3 (delta 0), reused 0 (delta 0)\n",
      "To https://github.com/khayamgondal/diffusers.git\n",
      " * [new branch]      main -> main\n"
     ]
    }
   ],
   "source": [
    "! git commit -a -m \"updated notebook via paperspac\"\n",
    "! git push"
   ]
  }
 ],
 "metadata": {
  "kernelspec": {
   "display_name": "Python 3 (ipykernel)",
   "language": "python",
   "name": "python3"
  },
  "language_info": {
   "codemirror_mode": {
    "name": "ipython",
    "version": 3
   },
   "file_extension": ".py",
   "mimetype": "text/x-python",
   "name": "python",
   "nbconvert_exporter": "python",
   "pygments_lexer": "ipython3",
   "version": "3.8.10"
  }
 },
 "nbformat": 4,
 "nbformat_minor": 5
}
